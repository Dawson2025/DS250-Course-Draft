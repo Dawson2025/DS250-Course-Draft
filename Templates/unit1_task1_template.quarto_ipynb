{
  "cells": [
    {
      "cell_type": "markdown",
      "metadata": {},
      "source": [
        "﻿---\n",
        "title: \"Client Report - Exploring Names\"\n",
        "subtitle: \"Unit 1 Task 1\"\n",
        "author: \"[STUDENT NAME]\"\n",
        "format:\n",
        "  html:\n",
        "    self-contained: true\n",
        "    page-layout: full\n",
        "    title-block-banner: true\n",
        "    toc: true\n",
        "    toc-depth: 3\n",
        "    toc-location: body\n",
        "    number-sections: false\n",
        "    html-math-method: katex\n",
        "    code-fold: true\n",
        "    code-summary: \"Show the code\"\n",
        "    code-overflow: wrap\n",
        "    code-copy: hover\n",
        "    code-tools:\n",
        "      source: false\n",
        "      toggle: true\n",
        "      caption: See code\n",
        "execute:\n",
        "  warning: false\n",
        "---"
      ],
      "id": "7c5b7848"
    },
    {
      "cell_type": "code",
      "metadata": {},
      "source": [
        "import pandas as pd\n",
        "from IPython.display import Markdown\n",
        "\n",
        "pd.options.display.float_format = \"{:,.0f}\".format\n",
        "\n",
        "state_focus = \"UT\"         # Utah is referenced in multiple questions\n",
        "preferred_name = \"Dawson\"   # My name"
      ],
      "id": "f9087f86",
      "execution_count": null,
      "outputs": []
    },
    {
      "cell_type": "markdown",
      "metadata": {},
      "source": [
        "## Data Preparation"
      ],
      "id": "dda06f04"
    },
    {
      "cell_type": "code",
      "metadata": {},
      "source": [
        "# Load the SSA aggregates used in all unit 1 tasks directly from their GitHub source.\n",
        "names_year_url = \"https://github.com/byuidatascience/data4names/raw/master/data-raw/names_year/names_year.csv\"\n",
        "names_prob_url = \"https://github.com/byuidatascience/data4names/raw/master/data-raw/names_prob/names_prob.csv\"\n",
        "\n",
        "names_year = pd.read_csv(names_year_url)\n",
        "names_prob = pd.read_csv(names_prob_url)\n",
        "\n",
        "\n",
        "latest_year = int(names_year[\"year\"].max())\n",
        "earliest_year = int(names_year[\"year\"].min())\n",
        "\n",
        "Markdown(\n",
        "    f\"The annual data now spans from **{earliest_year}** to **{latest_year}**.\"\n",
        ")"
      ],
      "id": "0f02037c",
      "execution_count": null,
      "outputs": []
    },
    {
      "cell_type": "markdown",
      "metadata": {},
      "source": [
        "## QUESTION 1\n",
        "\n",
        "**What was the earliest year that the name Felisha was used?**"
      ],
      "id": "027a0232"
    },
    {
      "cell_type": "code",
      "metadata": {},
      "source": [
        "felisha_history = (\n",
        "    names_year.query(\"name == 'Felisha' and Total > 0\")\n",
        "    .sort_values(\"year\")\n",
        "    .loc[:, [\"year\", \"Total\", state_focus]]\n",
        ")\n",
        "\n",
        "if felisha_history.empty:\n",
        "    response_q1 = \"Felisha does not appear in the dataset, so no qualifying births were recorded.\"\n",
        "else:\n",
        "    first_row = felisha_history.iloc[0]\n",
        "    response_q1 = (\n",
        "        f\"Felisha first appears in {int(first_row['year'])} with \"\n",
        "        f\"{int(first_row['Total']):,} babies nationwide.\"\n",
        "    )\n",
        "\n",
        "felisha_history.head()"
      ],
      "id": "493c6e81",
      "execution_count": null,
      "outputs": []
    },
    {
      "cell_type": "code",
      "metadata": {},
      "source": [
        "Markdown(response_q1)"
      ],
      "id": "6d7f263a",
      "execution_count": null,
      "outputs": []
    },
    {
      "cell_type": "markdown",
      "metadata": {},
      "source": [
        "## QUESTION 2\n",
        "\n",
        "**What year had the most babies named \"David\"? How many babies were named \"David\" that year?**"
      ],
      "id": "952e0847"
    },
    {
      "cell_type": "code",
      "metadata": {},
      "source": [
        "david_counts = (\n",
        "    names_year.query(\"name == 'David' and Total > 0\")\n",
        "    .loc[:, [\"year\", \"Total\", state_focus]]\n",
        ")\n",
        "\n",
        "peak_idx = david_counts[\"Total\"].idxmax()\n",
        "david_peak_year = int(david_counts.loc[peak_idx, \"year\"])\n",
        "david_peak_total = int(david_counts.loc[peak_idx, \"Total\"])\n",
        "\n",
        "david_counts.sort_values(\"Total\", ascending=False).head()"
      ],
      "id": "930695f2",
      "execution_count": null,
      "outputs": []
    },
    {
      "cell_type": "code",
      "metadata": {},
      "source": [
        "Markdown(\n",
        "    f\"David reached its national peak in {david_peak_year} with {david_peak_total:,} births.\"\n",
        ")"
      ],
      "id": "4ae786ea",
      "execution_count": null,
      "outputs": []
    },
    {
      "cell_type": "markdown",
      "metadata": {},
      "source": [
        "## QUESTION 3\n",
        "\n",
        "**What year did your name hit its peak? How many babies were named your name in that year?**"
      ],
      "id": "321d84bb"
    },
    {
      "cell_type": "code",
      "metadata": {},
      "source": [
        "my_name_history = (\n",
        "    names_year.query(\"name == @preferred_name and Total > 0\")\n",
        "    .loc[:, [\"year\", \"Total\", state_focus]]\n",
        "    .sort_values(\"year\")\n",
        ")\n",
        "\n",
        "if my_name_history.empty:\n",
        "    response_q3 = (\n",
        "        \"Update the `preferred_name` variable above; the placeholder does not appear in the dataset.\"\n",
        "    )\n",
        "else:\n",
        "    peak_row = my_name_history.loc[my_name_history[\"Total\"].idxmax()]\n",
        "    response_q3 = (\n",
        "        f\"{preferred_name} peaked nationwide in {int(peak_row['year'])} with \"\n",
        "        f\"{int(peak_row['Total']):,} recorded births.\"\n",
        "    )\n",
        "\n",
        "my_name_history.tail()"
      ],
      "id": "5622af79",
      "execution_count": null,
      "outputs": []
    },
    {
      "cell_type": "code",
      "metadata": {},
      "source": [
        "Markdown(response_q3)"
      ],
      "id": "a74eb60f",
      "execution_count": null,
      "outputs": []
    },
    {
      "cell_type": "markdown",
      "metadata": {},
      "source": [
        "## QUESTION 4\n",
        "\n",
        "**How many babies are named \"Oliver\" in the state of Utah for all years?**"
      ],
      "id": "47c09c92"
    },
    {
      "cell_type": "code",
      "metadata": {},
      "source": [
        "oliver_ut_total = int(\n",
        "    names_year.query(\"name == 'Oliver'\")[state_focus].sum()\n",
        ")\n",
        "\n",
        "oliver_ut_by_year = (\n",
        "    names_year.query(\"name == 'Oliver'\")\n",
        "    .loc[:, [\"year\", state_focus, \"Total\"]]\n",
        "    .rename(columns={state_focus: \"ut_births\"})\n",
        "    .sort_values(\"year\")\n",
        ")\n",
        "oliver_ut_by_year.head()"
      ],
      "id": "a8c53561",
      "execution_count": null,
      "outputs": []
    },
    {
      "cell_type": "code",
      "metadata": {},
      "source": [
        "Markdown(\n",
        "    f\"Across the full record, Utah welcomed {oliver_ut_total:,} babies named Oliver.\"\n",
        ")"
      ],
      "id": "9b108729",
      "execution_count": null,
      "outputs": []
    },
    {
      "cell_type": "markdown",
      "metadata": {},
      "source": [
        "## QUESTION 5\n",
        "\n",
        "**In the most recent year, what was the most common female name in Utah?**"
      ],
      "id": "0b496bc3"
    },
    {
      "cell_type": "code",
      "metadata": {},
      "source": [
        "female_names = names_prob.loc[names_prob[\"prob_female\"] >= 0.5, [\"name\", \"prob_female\"]]\n",
        "\n",
        "latest_ut = names_year.loc[names_year[\"year\"] == latest_year, [\"name\", state_focus, \"Total\"]]\n",
        "latest_ut_female = (\n",
        "    latest_ut.merge(female_names, on=\"name\", how=\"inner\")\n",
        "    .rename(columns={state_focus: \"ut_births\"})\n",
        ")\n",
        "\n",
        "most_common_female = latest_ut_female.loc[latest_ut_female[\"ut_births\"].idxmax()]\n",
        "\n",
        "latest_ut_female.sort_values(\"ut_births\", ascending=False).head(10)"
      ],
      "id": "83bbc037",
      "execution_count": null,
      "outputs": []
    },
    {
      "cell_type": "code",
      "metadata": {},
      "source": [
        "Markdown(\n",
        "    f\"In {latest_year}, the most common female name in Utah was {most_common_female['name']} with \"\n",
        "    f\"{int(most_common_female['ut_births']):,} recorded births.\"\n",
        ")"
      ],
      "id": "7945f9b0",
      "execution_count": null,
      "outputs": []
    }
  ],
  "metadata": {
    "kernelspec": {
      "name": "python3",
      "language": "python",
      "display_name": "Python 3 (ipykernel)",
      "path": "C:\\Users\\Dawson\\AppData\\Local\\Programs\\Python\\Python313\\share\\jupyter\\kernels\\python3"
    }
  },
  "nbformat": 4,
  "nbformat_minor": 5
}